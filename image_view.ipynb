{
 "cells": [
  {
   "cell_type": "code",
   "execution_count": 15,
   "metadata": {},
   "outputs": [],
   "source": [
    "# def unpickle(file):\n",
    "#     import pickle\n",
    "#     with open(file, 'rb') as fo:\n",
    "#         dict = pickle.load(fo, encoding='bytes')\n",
    "#     return dict\n",
    "\n",
    "# test_batch = unpickle('cifar-10-batches-py/test_batch')\n",
    "# data_batch_1 = unpickle('cifar-10-batches-py/data_batch_1')\n",
    "# data_batch_2 = unpickle('cifar-10-batches-py/data_batch_2')\n",
    "# data_batch_3 = unpickle('cifar-10-batches-py/data_batch_3')\n",
    "# data_batch_4 = unpickle('cifar-10-batches-py/data_batch_4')\n",
    "# data_batch_5 = unpickle('cifar-10-batches-py/data_batch_5')\n",
    "# batches_meta = unpickle('cifar-10-batches-py/batches.meta')"
   ]
  },
  {
   "cell_type": "code",
   "execution_count": 47,
   "metadata": {},
   "outputs": [],
   "source": [
    "def bmp_write(a,filename): # convert array of array of pixel to bmp file\n",
    "    height=len(a)\n",
    "    width=len(a[0]) if a else 0\n",
    "    data=[\n",
    "        int.from_bytes(b'\\x00\\x00BM','little'),\n",
    "        height * width * 4 + 54,\n",
    "        0, 54, 40,\n",
    "        width, height,\n",
    "        0x200001, 0,\n",
    "        height * width * 4,\n",
    "        0, 0, 0, 0\n",
    "    ]\n",
    "    for q in a:\n",
    "        for w in q:\n",
    "            w=[max(min(e,255),0) for e in w]\n",
    "            data.append(int.from_bytes(bytearray(w),'little'))\n",
    "    data=b''.join([w.to_bytes(4,'little') for w in data])\n",
    "    open(filename,'wb').write(data[2:])\n"
   ]
  },
  {
   "cell_type": "code",
   "execution_count": 48,
   "metadata": {},
   "outputs": [],
   "source": [
    "# import numpy as np\n",
    "# def convert_to_bmp(batch, index, output_bmp_filename) -> str: #returns name of label\n",
    "#     data: np.ndarray\n",
    "#     data = batch[b'data'][index]\n",
    "#     data_iter = iter(data)\n",
    "#     a=[]\n",
    "#     for q in range(32):\n",
    "#         a.append([])\n",
    "#         for w in range(32):\n",
    "#             a[-1].append([255,255,255])\n",
    "#     for q in range(3):\n",
    "#         for w in range(32):\n",
    "#             for e in range(32):\n",
    "#                 a[31-w][e][q] = next(data_iter, None)\n",
    "#     bmp_write(a, output_bmp_filename)\n",
    "#     label = batch[b'labels'][index]\n",
    "#     return batches_meta[b'label_names'][label]"
   ]
  },
  {
   "cell_type": "code",
   "execution_count": 59,
   "metadata": {},
   "outputs": [
    {
     "data": {
      "text/plain": [
       "b'cat'"
      ]
     },
     "execution_count": 59,
     "metadata": {},
     "output_type": "execute_result"
    }
   ],
   "source": [
    "# convert_to_bmp(data_batch_2, 5, './test.bmp')"
   ]
  },
  {
   "cell_type": "code",
   "execution_count": 3,
   "metadata": {},
   "outputs": [
    {
     "name": "stdout",
     "output_type": "stream",
     "text": [
      "<_csv.reader object at 0x106c67ed0>\n"
     ]
    },
    {
     "ename": "ValueError",
     "evalue": "I/O operation on closed file.",
     "output_type": "error",
     "traceback": [
      "\u001b[0;31m---------------------------------------------------------------------------\u001b[0m",
      "\u001b[0;31mValueError\u001b[0m                                Traceback (most recent call last)",
      "Cell \u001b[0;32mIn[3], line 11\u001b[0m\n\u001b[1;32m      9\u001b[0m data \u001b[39m=\u001b[39m read_csv(\u001b[39m'\u001b[39m\u001b[39mMNIST/mnist_test.csv\u001b[39m\u001b[39m'\u001b[39m)\n\u001b[1;32m     10\u001b[0m \u001b[39mprint\u001b[39m(data)\n\u001b[0;32m---> 11\u001b[0m \u001b[39mfor\u001b[39;00m q \u001b[39min\u001b[39;00m data:\n\u001b[1;32m     12\u001b[0m     \u001b[39mprint\u001b[39m(q)\n",
      "\u001b[0;31mValueError\u001b[0m: I/O operation on closed file."
     ]
    }
   ],
   "source": [
    "import csv\n",
    "def read_csv(filename):\n",
    "    with open(filename) as file:\n",
    "        d = csv.Sniffer().sniff(file.read(1024))\n",
    "        file.seek(0)\n",
    "        return csv.reader(file, d)\n",
    "        \n",
    "\n",
    "data = read_csv('MNIST/mnist_test.csv')\n",
    "print(data)\n",
    "for q in data:\n",
    "    print(q)\n"
   ]
  },
  {
   "cell_type": "code",
   "execution_count": null,
   "metadata": {},
   "outputs": [],
   "source": []
  }
 ],
 "metadata": {
  "kernelspec": {
   "display_name": "Python 3",
   "language": "python",
   "name": "python3"
  },
  "language_info": {
   "codemirror_mode": {
    "name": "ipython",
    "version": 3
   },
   "file_extension": ".py",
   "mimetype": "text/x-python",
   "name": "python",
   "nbconvert_exporter": "python",
   "pygments_lexer": "ipython3",
   "version": "3.11.6"
  },
  "orig_nbformat": 4
 },
 "nbformat": 4,
 "nbformat_minor": 2
}
